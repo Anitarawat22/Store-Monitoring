{
 "cells": [
  {
   "cell_type": "code",
   "execution_count": 1,
   "id": "065a42f5",
   "metadata": {},
   "outputs": [],
   "source": [
    "import pandas as pd  ##\n",
    "import numpy as np   ##\n",
    "from sqlalchemy import create_engine  ##\n",
    "import pytz  ##"
   ]
  },
  {
   "cell_type": "code",
   "execution_count": 2,
   "id": "456834be",
   "metadata": {},
   "outputs": [],
   "source": [
    "df_status = pd.read_csv(\"store status.csv\")  ### Read the CSVs into dataframes"
   ]
  },
  {
   "cell_type": "code",
   "execution_count": 3,
   "id": "7530f148",
   "metadata": {},
   "outputs": [
    {
     "data": {
      "text/html": [
       "<div>\n",
       "<style scoped>\n",
       "    .dataframe tbody tr th:only-of-type {\n",
       "        vertical-align: middle;\n",
       "    }\n",
       "\n",
       "    .dataframe tbody tr th {\n",
       "        vertical-align: top;\n",
       "    }\n",
       "\n",
       "    .dataframe thead th {\n",
       "        text-align: right;\n",
       "    }\n",
       "</style>\n",
       "<table border=\"1\" class=\"dataframe\">\n",
       "  <thead>\n",
       "    <tr style=\"text-align: right;\">\n",
       "      <th></th>\n",
       "      <th>store_id</th>\n",
       "      <th>status</th>\n",
       "      <th>timestamp_utc</th>\n",
       "    </tr>\n",
       "  </thead>\n",
       "  <tbody>\n",
       "    <tr>\n",
       "      <th>0</th>\n",
       "      <td>8419537941919820732</td>\n",
       "      <td>active</td>\n",
       "      <td>2023-01-22 12:09:39.388884 UTC</td>\n",
       "    </tr>\n",
       "    <tr>\n",
       "      <th>1</th>\n",
       "      <td>54515546588432327</td>\n",
       "      <td>active</td>\n",
       "      <td>2023-01-24 09:06:42.605777 UTC</td>\n",
       "    </tr>\n",
       "    <tr>\n",
       "      <th>2</th>\n",
       "      <td>8377465688456570187</td>\n",
       "      <td>active</td>\n",
       "      <td>2023-01-24 09:07:26.441407 UTC</td>\n",
       "    </tr>\n",
       "    <tr>\n",
       "      <th>3</th>\n",
       "      <td>5955337179846162144</td>\n",
       "      <td>active</td>\n",
       "      <td>2023-01-24 09:08:07.634899 UTC</td>\n",
       "    </tr>\n",
       "    <tr>\n",
       "      <th>4</th>\n",
       "      <td>1169347689335808384</td>\n",
       "      <td>active</td>\n",
       "      <td>2023-01-24 09:08:18.436854 UTC</td>\n",
       "    </tr>\n",
       "  </tbody>\n",
       "</table>\n",
       "</div>"
      ],
      "text/plain": [
       "              store_id  status                   timestamp_utc\n",
       "0  8419537941919820732  active  2023-01-22 12:09:39.388884 UTC\n",
       "1    54515546588432327  active  2023-01-24 09:06:42.605777 UTC\n",
       "2  8377465688456570187  active  2023-01-24 09:07:26.441407 UTC\n",
       "3  5955337179846162144  active  2023-01-24 09:08:07.634899 UTC\n",
       "4  1169347689335808384  active  2023-01-24 09:08:18.436854 UTC"
      ]
     },
     "execution_count": 3,
     "metadata": {},
     "output_type": "execute_result"
    }
   ],
   "source": [
    "df_status.head()"
   ]
  },
  {
   "cell_type": "code",
   "execution_count": 4,
   "id": "28f0573b",
   "metadata": {},
   "outputs": [
    {
     "data": {
      "text/html": [
       "<div>\n",
       "<style scoped>\n",
       "    .dataframe tbody tr th:only-of-type {\n",
       "        vertical-align: middle;\n",
       "    }\n",
       "\n",
       "    .dataframe tbody tr th {\n",
       "        vertical-align: top;\n",
       "    }\n",
       "\n",
       "    .dataframe thead th {\n",
       "        text-align: right;\n",
       "    }\n",
       "</style>\n",
       "<table border=\"1\" class=\"dataframe\">\n",
       "  <thead>\n",
       "    <tr style=\"text-align: right;\">\n",
       "      <th></th>\n",
       "      <th>store_id</th>\n",
       "      <th>status</th>\n",
       "      <th>timestamp_utc</th>\n",
       "    </tr>\n",
       "  </thead>\n",
       "  <tbody>\n",
       "    <tr>\n",
       "      <th>1822075</th>\n",
       "      <td>9103029069217106077</td>\n",
       "      <td>inactive</td>\n",
       "      <td>2023-01-20 09:02:21.705125 UTC</td>\n",
       "    </tr>\n",
       "    <tr>\n",
       "      <th>1822076</th>\n",
       "      <td>5532343280896549215</td>\n",
       "      <td>inactive</td>\n",
       "      <td>2023-01-21 02:03:58.311087 UTC</td>\n",
       "    </tr>\n",
       "    <tr>\n",
       "      <th>1822077</th>\n",
       "      <td>3794430814933142786</td>\n",
       "      <td>inactive</td>\n",
       "      <td>2023-01-21 04:04:20.916254 UTC</td>\n",
       "    </tr>\n",
       "    <tr>\n",
       "      <th>1822078</th>\n",
       "      <td>4192592653801050907</td>\n",
       "      <td>inactive</td>\n",
       "      <td>2023-01-21 15:11:50.902575 UTC</td>\n",
       "    </tr>\n",
       "    <tr>\n",
       "      <th>1822079</th>\n",
       "      <td>3846497499881872792</td>\n",
       "      <td>inactive</td>\n",
       "      <td>2023-01-21 08:04:26.177456 UTC</td>\n",
       "    </tr>\n",
       "  </tbody>\n",
       "</table>\n",
       "</div>"
      ],
      "text/plain": [
       "                    store_id    status                   timestamp_utc\n",
       "1822075  9103029069217106077  inactive  2023-01-20 09:02:21.705125 UTC\n",
       "1822076  5532343280896549215  inactive  2023-01-21 02:03:58.311087 UTC\n",
       "1822077  3794430814933142786  inactive  2023-01-21 04:04:20.916254 UTC\n",
       "1822078  4192592653801050907  inactive  2023-01-21 15:11:50.902575 UTC\n",
       "1822079  3846497499881872792  inactive  2023-01-21 08:04:26.177456 UTC"
      ]
     },
     "execution_count": 4,
     "metadata": {},
     "output_type": "execute_result"
    }
   ],
   "source": [
    "df_status.tail()"
   ]
  },
  {
   "cell_type": "code",
   "execution_count": 5,
   "id": "3cd0e7e7",
   "metadata": {},
   "outputs": [
    {
     "data": {
      "text/html": [
       "<div>\n",
       "<style scoped>\n",
       "    .dataframe tbody tr th:only-of-type {\n",
       "        vertical-align: middle;\n",
       "    }\n",
       "\n",
       "    .dataframe tbody tr th {\n",
       "        vertical-align: top;\n",
       "    }\n",
       "\n",
       "    .dataframe thead th {\n",
       "        text-align: right;\n",
       "    }\n",
       "</style>\n",
       "<table border=\"1\" class=\"dataframe\">\n",
       "  <thead>\n",
       "    <tr style=\"text-align: right;\">\n",
       "      <th></th>\n",
       "      <th>store_id</th>\n",
       "      <th>status</th>\n",
       "      <th>timestamp_utc</th>\n",
       "    </tr>\n",
       "  </thead>\n",
       "  <tbody>\n",
       "    <tr>\n",
       "      <th>1674321</th>\n",
       "      <td>7681219113084292190</td>\n",
       "      <td>inactive</td>\n",
       "      <td>2023-01-25 07:09:31.984375 UTC</td>\n",
       "    </tr>\n",
       "    <tr>\n",
       "      <th>1207364</th>\n",
       "      <td>7899691756043177767</td>\n",
       "      <td>active</td>\n",
       "      <td>2023-01-18 21:03:30.456451 UTC</td>\n",
       "    </tr>\n",
       "    <tr>\n",
       "      <th>1495487</th>\n",
       "      <td>4311429323676837453</td>\n",
       "      <td>inactive</td>\n",
       "      <td>2023-01-21 19:06:37.545555 UTC</td>\n",
       "    </tr>\n",
       "    <tr>\n",
       "      <th>579320</th>\n",
       "      <td>2918967668033394239</td>\n",
       "      <td>active</td>\n",
       "      <td>2023-01-21 08:12:17.983936 UTC</td>\n",
       "    </tr>\n",
       "    <tr>\n",
       "      <th>567057</th>\n",
       "      <td>2179493412815945910</td>\n",
       "      <td>active</td>\n",
       "      <td>2023-01-18 15:35:36.320958 UTC</td>\n",
       "    </tr>\n",
       "    <tr>\n",
       "      <th>1121800</th>\n",
       "      <td>6286820251557686759</td>\n",
       "      <td>active</td>\n",
       "      <td>2023-01-21 04:02:01.670665 UTC</td>\n",
       "    </tr>\n",
       "    <tr>\n",
       "      <th>1463037</th>\n",
       "      <td>2624399680748347538</td>\n",
       "      <td>inactive</td>\n",
       "      <td>2023-01-20 14:02:28.108497 UTC</td>\n",
       "    </tr>\n",
       "    <tr>\n",
       "      <th>172521</th>\n",
       "      <td>8545404528920786751</td>\n",
       "      <td>active</td>\n",
       "      <td>2023-01-24 14:10:29.745153 UTC</td>\n",
       "    </tr>\n",
       "  </tbody>\n",
       "</table>\n",
       "</div>"
      ],
      "text/plain": [
       "                    store_id    status                   timestamp_utc\n",
       "1674321  7681219113084292190  inactive  2023-01-25 07:09:31.984375 UTC\n",
       "1207364  7899691756043177767    active  2023-01-18 21:03:30.456451 UTC\n",
       "1495487  4311429323676837453  inactive  2023-01-21 19:06:37.545555 UTC\n",
       "579320   2918967668033394239    active  2023-01-21 08:12:17.983936 UTC\n",
       "567057   2179493412815945910    active  2023-01-18 15:35:36.320958 UTC\n",
       "1121800  6286820251557686759    active  2023-01-21 04:02:01.670665 UTC\n",
       "1463037  2624399680748347538  inactive  2023-01-20 14:02:28.108497 UTC\n",
       "172521   8545404528920786751    active  2023-01-24 14:10:29.745153 UTC"
      ]
     },
     "execution_count": 5,
     "metadata": {},
     "output_type": "execute_result"
    }
   ],
   "source": [
    "df_status.sample(8)"
   ]
  },
  {
   "cell_type": "code",
   "execution_count": 6,
   "id": "e3dce3c9",
   "metadata": {},
   "outputs": [
    {
     "data": {
      "text/plain": [
       "(1822080, 3)"
      ]
     },
     "execution_count": 6,
     "metadata": {},
     "output_type": "execute_result"
    }
   ],
   "source": [
    "df_status.shape ###"
   ]
  },
  {
   "cell_type": "code",
   "execution_count": 7,
   "id": "38db0c07",
   "metadata": {},
   "outputs": [],
   "source": [
    "df_business_hours = pd.read_csv(\"Menu hours.csv\")"
   ]
  },
  {
   "cell_type": "code",
   "execution_count": 8,
   "id": "5f11a2ad",
   "metadata": {},
   "outputs": [
    {
     "data": {
      "text/html": [
       "<div>\n",
       "<style scoped>\n",
       "    .dataframe tbody tr th:only-of-type {\n",
       "        vertical-align: middle;\n",
       "    }\n",
       "\n",
       "    .dataframe tbody tr th {\n",
       "        vertical-align: top;\n",
       "    }\n",
       "\n",
       "    .dataframe thead th {\n",
       "        text-align: right;\n",
       "    }\n",
       "</style>\n",
       "<table border=\"1\" class=\"dataframe\">\n",
       "  <thead>\n",
       "    <tr style=\"text-align: right;\">\n",
       "      <th></th>\n",
       "      <th>store_id</th>\n",
       "      <th>day</th>\n",
       "      <th>start_time_local</th>\n",
       "      <th>end_time_local</th>\n",
       "    </tr>\n",
       "  </thead>\n",
       "  <tbody>\n",
       "    <tr>\n",
       "      <th>0</th>\n",
       "      <td>1481966498820158979</td>\n",
       "      <td>4</td>\n",
       "      <td>00:00:00</td>\n",
       "      <td>00:10:00</td>\n",
       "    </tr>\n",
       "    <tr>\n",
       "      <th>1</th>\n",
       "      <td>1481966498820158979</td>\n",
       "      <td>2</td>\n",
       "      <td>00:00:00</td>\n",
       "      <td>00:10:00</td>\n",
       "    </tr>\n",
       "    <tr>\n",
       "      <th>2</th>\n",
       "      <td>1481966498820158979</td>\n",
       "      <td>0</td>\n",
       "      <td>00:00:00</td>\n",
       "      <td>00:10:00</td>\n",
       "    </tr>\n",
       "    <tr>\n",
       "      <th>3</th>\n",
       "      <td>1481966498820158979</td>\n",
       "      <td>1</td>\n",
       "      <td>00:00:00</td>\n",
       "      <td>00:10:00</td>\n",
       "    </tr>\n",
       "    <tr>\n",
       "      <th>4</th>\n",
       "      <td>1481966498820158979</td>\n",
       "      <td>5</td>\n",
       "      <td>00:00:00</td>\n",
       "      <td>00:10:00</td>\n",
       "    </tr>\n",
       "  </tbody>\n",
       "</table>\n",
       "</div>"
      ],
      "text/plain": [
       "              store_id  day start_time_local end_time_local\n",
       "0  1481966498820158979    4         00:00:00       00:10:00\n",
       "1  1481966498820158979    2         00:00:00       00:10:00\n",
       "2  1481966498820158979    0         00:00:00       00:10:00\n",
       "3  1481966498820158979    1         00:00:00       00:10:00\n",
       "4  1481966498820158979    5         00:00:00       00:10:00"
      ]
     },
     "execution_count": 8,
     "metadata": {},
     "output_type": "execute_result"
    }
   ],
   "source": [
    "df_business_hours.head()"
   ]
  },
  {
   "cell_type": "code",
   "execution_count": 9,
   "id": "5a99584d",
   "metadata": {},
   "outputs": [
    {
     "data": {
      "text/plain": [
       "(86198, 4)"
      ]
     },
     "execution_count": 9,
     "metadata": {},
     "output_type": "execute_result"
    }
   ],
   "source": [
    "df_business_hours.shape"
   ]
  },
  {
   "cell_type": "code",
   "execution_count": 10,
   "id": "30fb5231",
   "metadata": {},
   "outputs": [],
   "source": [
    "df_timezone = pd.read_csv(\"Timezone.csv\")"
   ]
  },
  {
   "cell_type": "code",
   "execution_count": 11,
   "id": "d5de7bc0",
   "metadata": {},
   "outputs": [
    {
     "data": {
      "text/html": [
       "<div>\n",
       "<style scoped>\n",
       "    .dataframe tbody tr th:only-of-type {\n",
       "        vertical-align: middle;\n",
       "    }\n",
       "\n",
       "    .dataframe tbody tr th {\n",
       "        vertical-align: top;\n",
       "    }\n",
       "\n",
       "    .dataframe thead th {\n",
       "        text-align: right;\n",
       "    }\n",
       "</style>\n",
       "<table border=\"1\" class=\"dataframe\">\n",
       "  <thead>\n",
       "    <tr style=\"text-align: right;\">\n",
       "      <th></th>\n",
       "      <th>store_id</th>\n",
       "      <th>timezone_str</th>\n",
       "    </tr>\n",
       "  </thead>\n",
       "  <tbody>\n",
       "    <tr>\n",
       "      <th>0</th>\n",
       "      <td>8139926242460185114</td>\n",
       "      <td>Asia/Beirut</td>\n",
       "    </tr>\n",
       "    <tr>\n",
       "      <th>1</th>\n",
       "      <td>5415949628544298339</td>\n",
       "      <td>America/Boise</td>\n",
       "    </tr>\n",
       "    <tr>\n",
       "      <th>2</th>\n",
       "      <td>3408529570017053440</td>\n",
       "      <td>America/Denver</td>\n",
       "    </tr>\n",
       "    <tr>\n",
       "      <th>3</th>\n",
       "      <td>9055649751952768824</td>\n",
       "      <td>America/Denver</td>\n",
       "    </tr>\n",
       "    <tr>\n",
       "      <th>4</th>\n",
       "      <td>4428372089193592098</td>\n",
       "      <td>America/Denver</td>\n",
       "    </tr>\n",
       "  </tbody>\n",
       "</table>\n",
       "</div>"
      ],
      "text/plain": [
       "              store_id    timezone_str\n",
       "0  8139926242460185114     Asia/Beirut\n",
       "1  5415949628544298339   America/Boise\n",
       "2  3408529570017053440  America/Denver\n",
       "3  9055649751952768824  America/Denver\n",
       "4  4428372089193592098  America/Denver"
      ]
     },
     "execution_count": 11,
     "metadata": {},
     "output_type": "execute_result"
    }
   ],
   "source": [
    "df_timezone.head()"
   ]
  },
  {
   "cell_type": "code",
   "execution_count": 12,
   "id": "edcc789a",
   "metadata": {},
   "outputs": [
    {
     "data": {
      "text/plain": [
       "(13559, 2)"
      ]
     },
     "execution_count": 12,
     "metadata": {},
     "output_type": "execute_result"
    }
   ],
   "source": [
    "df_timezone.shape"
   ]
  },
  {
   "cell_type": "code",
   "execution_count": null,
   "id": "16333d09",
   "metadata": {},
   "outputs": [],
   "source": []
  },
  {
   "cell_type": "code",
   "execution_count": null,
   "id": "855b53db",
   "metadata": {},
   "outputs": [],
   "source": []
  },
  {
   "cell_type": "code",
   "execution_count": 13,
   "id": "14cba86c",
   "metadata": {},
   "outputs": [],
   "source": [
    "### JOINS\n",
    "df_merged = df_status.merge(df_business_hours, on=\"store_id\", how=\"left\")"
   ]
  },
  {
   "cell_type": "code",
   "execution_count": 14,
   "id": "d7eb9110",
   "metadata": {},
   "outputs": [
    {
     "data": {
      "text/html": [
       "<div>\n",
       "<style scoped>\n",
       "    .dataframe tbody tr th:only-of-type {\n",
       "        vertical-align: middle;\n",
       "    }\n",
       "\n",
       "    .dataframe tbody tr th {\n",
       "        vertical-align: top;\n",
       "    }\n",
       "\n",
       "    .dataframe thead th {\n",
       "        text-align: right;\n",
       "    }\n",
       "</style>\n",
       "<table border=\"1\" class=\"dataframe\">\n",
       "  <thead>\n",
       "    <tr style=\"text-align: right;\">\n",
       "      <th></th>\n",
       "      <th>store_id</th>\n",
       "      <th>status</th>\n",
       "      <th>timestamp_utc</th>\n",
       "      <th>day</th>\n",
       "      <th>start_time_local</th>\n",
       "      <th>end_time_local</th>\n",
       "    </tr>\n",
       "  </thead>\n",
       "  <tbody>\n",
       "    <tr>\n",
       "      <th>0</th>\n",
       "      <td>8419537941919820732</td>\n",
       "      <td>active</td>\n",
       "      <td>2023-01-22 12:09:39.388884 UTC</td>\n",
       "      <td>NaN</td>\n",
       "      <td>NaN</td>\n",
       "      <td>NaN</td>\n",
       "    </tr>\n",
       "    <tr>\n",
       "      <th>1</th>\n",
       "      <td>54515546588432327</td>\n",
       "      <td>active</td>\n",
       "      <td>2023-01-24 09:06:42.605777 UTC</td>\n",
       "      <td>0.0</td>\n",
       "      <td>08:00:00</td>\n",
       "      <td>18:30:00</td>\n",
       "    </tr>\n",
       "    <tr>\n",
       "      <th>2</th>\n",
       "      <td>54515546588432327</td>\n",
       "      <td>active</td>\n",
       "      <td>2023-01-24 09:06:42.605777 UTC</td>\n",
       "      <td>6.0</td>\n",
       "      <td>08:00:00</td>\n",
       "      <td>18:30:00</td>\n",
       "    </tr>\n",
       "    <tr>\n",
       "      <th>3</th>\n",
       "      <td>54515546588432327</td>\n",
       "      <td>active</td>\n",
       "      <td>2023-01-24 09:06:42.605777 UTC</td>\n",
       "      <td>5.0</td>\n",
       "      <td>08:00:00</td>\n",
       "      <td>18:30:00</td>\n",
       "    </tr>\n",
       "    <tr>\n",
       "      <th>4</th>\n",
       "      <td>54515546588432327</td>\n",
       "      <td>active</td>\n",
       "      <td>2023-01-24 09:06:42.605777 UTC</td>\n",
       "      <td>2.0</td>\n",
       "      <td>08:00:00</td>\n",
       "      <td>18:30:00</td>\n",
       "    </tr>\n",
       "  </tbody>\n",
       "</table>\n",
       "</div>"
      ],
      "text/plain": [
       "              store_id  status                   timestamp_utc  day  \\\n",
       "0  8419537941919820732  active  2023-01-22 12:09:39.388884 UTC  NaN   \n",
       "1    54515546588432327  active  2023-01-24 09:06:42.605777 UTC  0.0   \n",
       "2    54515546588432327  active  2023-01-24 09:06:42.605777 UTC  6.0   \n",
       "3    54515546588432327  active  2023-01-24 09:06:42.605777 UTC  5.0   \n",
       "4    54515546588432327  active  2023-01-24 09:06:42.605777 UTC  2.0   \n",
       "\n",
       "  start_time_local end_time_local  \n",
       "0              NaN            NaN  \n",
       "1         08:00:00       18:30:00  \n",
       "2         08:00:00       18:30:00  \n",
       "3         08:00:00       18:30:00  \n",
       "4         08:00:00       18:30:00  "
      ]
     },
     "execution_count": 14,
     "metadata": {},
     "output_type": "execute_result"
    }
   ],
   "source": [
    "df_merged.head()"
   ]
  },
  {
   "cell_type": "code",
   "execution_count": 15,
   "id": "ad17e336",
   "metadata": {},
   "outputs": [],
   "source": [
    "df_merged = df_merged.merge(df_timezone, on=\"store_id\", how=\"left\")"
   ]
  },
  {
   "cell_type": "code",
   "execution_count": 16,
   "id": "06496d99",
   "metadata": {},
   "outputs": [
    {
     "data": {
      "text/html": [
       "<div>\n",
       "<style scoped>\n",
       "    .dataframe tbody tr th:only-of-type {\n",
       "        vertical-align: middle;\n",
       "    }\n",
       "\n",
       "    .dataframe tbody tr th {\n",
       "        vertical-align: top;\n",
       "    }\n",
       "\n",
       "    .dataframe thead th {\n",
       "        text-align: right;\n",
       "    }\n",
       "</style>\n",
       "<table border=\"1\" class=\"dataframe\">\n",
       "  <thead>\n",
       "    <tr style=\"text-align: right;\">\n",
       "      <th></th>\n",
       "      <th>store_id</th>\n",
       "      <th>status</th>\n",
       "      <th>timestamp_utc</th>\n",
       "      <th>day</th>\n",
       "      <th>start_time_local</th>\n",
       "      <th>end_time_local</th>\n",
       "      <th>timezone_str</th>\n",
       "    </tr>\n",
       "  </thead>\n",
       "  <tbody>\n",
       "    <tr>\n",
       "      <th>0</th>\n",
       "      <td>8419537941919820732</td>\n",
       "      <td>active</td>\n",
       "      <td>2023-01-22 12:09:39.388884 UTC</td>\n",
       "      <td>NaN</td>\n",
       "      <td>NaN</td>\n",
       "      <td>NaN</td>\n",
       "      <td>NaN</td>\n",
       "    </tr>\n",
       "    <tr>\n",
       "      <th>1</th>\n",
       "      <td>54515546588432327</td>\n",
       "      <td>active</td>\n",
       "      <td>2023-01-24 09:06:42.605777 UTC</td>\n",
       "      <td>0.0</td>\n",
       "      <td>08:00:00</td>\n",
       "      <td>18:30:00</td>\n",
       "      <td>America/New_York</td>\n",
       "    </tr>\n",
       "    <tr>\n",
       "      <th>2</th>\n",
       "      <td>54515546588432327</td>\n",
       "      <td>active</td>\n",
       "      <td>2023-01-24 09:06:42.605777 UTC</td>\n",
       "      <td>6.0</td>\n",
       "      <td>08:00:00</td>\n",
       "      <td>18:30:00</td>\n",
       "      <td>America/New_York</td>\n",
       "    </tr>\n",
       "    <tr>\n",
       "      <th>3</th>\n",
       "      <td>54515546588432327</td>\n",
       "      <td>active</td>\n",
       "      <td>2023-01-24 09:06:42.605777 UTC</td>\n",
       "      <td>5.0</td>\n",
       "      <td>08:00:00</td>\n",
       "      <td>18:30:00</td>\n",
       "      <td>America/New_York</td>\n",
       "    </tr>\n",
       "    <tr>\n",
       "      <th>4</th>\n",
       "      <td>54515546588432327</td>\n",
       "      <td>active</td>\n",
       "      <td>2023-01-24 09:06:42.605777 UTC</td>\n",
       "      <td>2.0</td>\n",
       "      <td>08:00:00</td>\n",
       "      <td>18:30:00</td>\n",
       "      <td>America/New_York</td>\n",
       "    </tr>\n",
       "  </tbody>\n",
       "</table>\n",
       "</div>"
      ],
      "text/plain": [
       "              store_id  status                   timestamp_utc  day  \\\n",
       "0  8419537941919820732  active  2023-01-22 12:09:39.388884 UTC  NaN   \n",
       "1    54515546588432327  active  2023-01-24 09:06:42.605777 UTC  0.0   \n",
       "2    54515546588432327  active  2023-01-24 09:06:42.605777 UTC  6.0   \n",
       "3    54515546588432327  active  2023-01-24 09:06:42.605777 UTC  5.0   \n",
       "4    54515546588432327  active  2023-01-24 09:06:42.605777 UTC  2.0   \n",
       "\n",
       "  start_time_local end_time_local      timezone_str  \n",
       "0              NaN            NaN               NaN  \n",
       "1         08:00:00       18:30:00  America/New_York  \n",
       "2         08:00:00       18:30:00  America/New_York  \n",
       "3         08:00:00       18:30:00  America/New_York  \n",
       "4         08:00:00       18:30:00  America/New_York  "
      ]
     },
     "execution_count": 16,
     "metadata": {},
     "output_type": "execute_result"
    }
   ],
   "source": [
    "df_merged.head()"
   ]
  },
  {
   "cell_type": "code",
   "execution_count": 17,
   "id": "6c31d3fa",
   "metadata": {},
   "outputs": [],
   "source": [
    "df_merged[\"timestamp_utc\"] = pd.to_datetime(df_merged[\"timestamp_utc\"])"
   ]
  },
  {
   "cell_type": "code",
   "execution_count": 18,
   "id": "1816f5b5",
   "metadata": {},
   "outputs": [],
   "source": [
    "df_merged[\"start_time_local\"] = pd.to_datetime(df_merged[\"start_time_local\"])"
   ]
  },
  {
   "cell_type": "code",
   "execution_count": 19,
   "id": "406a8228",
   "metadata": {},
   "outputs": [],
   "source": [
    "df_merged[\"end_time_local\"] = pd.to_datetime(df_merged[\"end_time_local\"])"
   ]
  },
  {
   "cell_type": "code",
   "execution_count": null,
   "id": "adfa84c6",
   "metadata": {},
   "outputs": [],
   "source": []
  },
  {
   "cell_type": "code",
   "execution_count": null,
   "id": "3adeb85b",
   "metadata": {},
   "outputs": [],
   "source": []
  },
  {
   "cell_type": "code",
   "execution_count": 20,
   "id": "86e05df7",
   "metadata": {},
   "outputs": [
    {
     "data": {
      "text/html": [
       "<div>\n",
       "<style scoped>\n",
       "    .dataframe tbody tr th:only-of-type {\n",
       "        vertical-align: middle;\n",
       "    }\n",
       "\n",
       "    .dataframe tbody tr th {\n",
       "        vertical-align: top;\n",
       "    }\n",
       "\n",
       "    .dataframe thead th {\n",
       "        text-align: right;\n",
       "    }\n",
       "</style>\n",
       "<table border=\"1\" class=\"dataframe\">\n",
       "  <thead>\n",
       "    <tr style=\"text-align: right;\">\n",
       "      <th></th>\n",
       "      <th>store_id</th>\n",
       "      <th>status</th>\n",
       "      <th>timestamp_utc</th>\n",
       "      <th>day</th>\n",
       "      <th>start_time_local</th>\n",
       "      <th>end_time_local</th>\n",
       "      <th>timezone_str</th>\n",
       "    </tr>\n",
       "  </thead>\n",
       "  <tbody>\n",
       "    <tr>\n",
       "      <th>0</th>\n",
       "      <td>8419537941919820732</td>\n",
       "      <td>active</td>\n",
       "      <td>2023-01-22 12:09:39.388884+00:00</td>\n",
       "      <td>NaN</td>\n",
       "      <td>NaT</td>\n",
       "      <td>NaT</td>\n",
       "      <td>NaN</td>\n",
       "    </tr>\n",
       "    <tr>\n",
       "      <th>1</th>\n",
       "      <td>54515546588432327</td>\n",
       "      <td>active</td>\n",
       "      <td>2023-01-24 09:06:42.605777+00:00</td>\n",
       "      <td>0.0</td>\n",
       "      <td>2023-04-30 08:00:00</td>\n",
       "      <td>2023-04-30 18:30:00</td>\n",
       "      <td>America/New_York</td>\n",
       "    </tr>\n",
       "    <tr>\n",
       "      <th>2</th>\n",
       "      <td>54515546588432327</td>\n",
       "      <td>active</td>\n",
       "      <td>2023-01-24 09:06:42.605777+00:00</td>\n",
       "      <td>6.0</td>\n",
       "      <td>2023-04-30 08:00:00</td>\n",
       "      <td>2023-04-30 18:30:00</td>\n",
       "      <td>America/New_York</td>\n",
       "    </tr>\n",
       "    <tr>\n",
       "      <th>3</th>\n",
       "      <td>54515546588432327</td>\n",
       "      <td>active</td>\n",
       "      <td>2023-01-24 09:06:42.605777+00:00</td>\n",
       "      <td>5.0</td>\n",
       "      <td>2023-04-30 08:00:00</td>\n",
       "      <td>2023-04-30 18:30:00</td>\n",
       "      <td>America/New_York</td>\n",
       "    </tr>\n",
       "    <tr>\n",
       "      <th>4</th>\n",
       "      <td>54515546588432327</td>\n",
       "      <td>active</td>\n",
       "      <td>2023-01-24 09:06:42.605777+00:00</td>\n",
       "      <td>2.0</td>\n",
       "      <td>2023-04-30 08:00:00</td>\n",
       "      <td>2023-04-30 18:30:00</td>\n",
       "      <td>America/New_York</td>\n",
       "    </tr>\n",
       "  </tbody>\n",
       "</table>\n",
       "</div>"
      ],
      "text/plain": [
       "              store_id  status                    timestamp_utc  day  \\\n",
       "0  8419537941919820732  active 2023-01-22 12:09:39.388884+00:00  NaN   \n",
       "1    54515546588432327  active 2023-01-24 09:06:42.605777+00:00  0.0   \n",
       "2    54515546588432327  active 2023-01-24 09:06:42.605777+00:00  6.0   \n",
       "3    54515546588432327  active 2023-01-24 09:06:42.605777+00:00  5.0   \n",
       "4    54515546588432327  active 2023-01-24 09:06:42.605777+00:00  2.0   \n",
       "\n",
       "     start_time_local      end_time_local      timezone_str  \n",
       "0                 NaT                 NaT               NaN  \n",
       "1 2023-04-30 08:00:00 2023-04-30 18:30:00  America/New_York  \n",
       "2 2023-04-30 08:00:00 2023-04-30 18:30:00  America/New_York  \n",
       "3 2023-04-30 08:00:00 2023-04-30 18:30:00  America/New_York  \n",
       "4 2023-04-30 08:00:00 2023-04-30 18:30:00  America/New_York  "
      ]
     },
     "execution_count": 20,
     "metadata": {},
     "output_type": "execute_result"
    }
   ],
   "source": [
    "df_merged.head()"
   ]
  },
  {
   "cell_type": "code",
   "execution_count": 21,
   "id": "a37055d8",
   "metadata": {},
   "outputs": [
    {
     "data": {
      "text/plain": [
       "(11823058, 7)"
      ]
     },
     "execution_count": 21,
     "metadata": {},
     "output_type": "execute_result"
    }
   ],
   "source": [
    "df_merged.shape"
   ]
  },
  {
   "cell_type": "code",
   "execution_count": null,
   "id": "44ddfe51",
   "metadata": {},
   "outputs": [],
   "source": []
  },
  {
   "cell_type": "code",
   "execution_count": 22,
   "id": "e267a9ea",
   "metadata": {},
   "outputs": [],
   "source": [
    "## creating a sql table\n",
    "engine = create_engine('sqlite:///store_monitoring.db', echo=False)"
   ]
  },
  {
   "cell_type": "code",
   "execution_count": null,
   "id": "69a90cf7",
   "metadata": {},
   "outputs": [],
   "source": [
    "df_merged.to_sql('store_monitoring_data', con=engine, if_exists='replace', index=False)"
   ]
  },
  {
   "cell_type": "code",
   "execution_count": null,
   "id": "6c27dce8",
   "metadata": {},
   "outputs": [],
   "source": []
  },
  {
   "cell_type": "code",
   "execution_count": null,
   "id": "fc4acb93",
   "metadata": {},
   "outputs": [],
   "source": []
  },
  {
   "cell_type": "code",
   "execution_count": null,
   "id": "723f08be",
   "metadata": {},
   "outputs": [],
   "source": []
  },
  {
   "cell_type": "code",
   "execution_count": null,
   "id": "46500aae",
   "metadata": {},
   "outputs": [],
   "source": [
    "def compute_uptime_downtime(store_id, tz_str):\n",
    "    # Get the start and end times of the current week\n",
    "    current_time = pd.Timestamp.utcnow().tz_localize(pytz.utc)\n",
    "    start_of_week = current_time - pd.Timedelta(days=current_time.dayofweek)\n",
    "    end_of_week = start_of_week + pd.Timedelta(days=7)\n",
    "    \n",
    "    # Get the timezone object\n",
    "    tz = pytz.timezone(tz_str)\n",
    "    \n",
    "    # Get the store data for the current week\n",
    "    conn = engine.connect()\n",
    "    df_store = pd.read_sql(f\"SELECT * FROM store_monitoring_data WHERE store_id='{store_id}' AND timestamp_utc>='{start_of_week}' AND timestamp_utc<'{end_of_week}'\", con=conn)\n",
    "    conn.close()\n",
    "    \n",
    "    # Get the business hours for the store\n",
    "    df_hours = df_business_hours[df_business_hours[\"store_id\"]==store_id].reset_index(drop=True)\n",
    "    \n",
    "    # If there is no business hours data, assume the store is open 24/7\n",
    "    if len(df_hours) == 0:\n",
    "        df_hours = pd.DataFrame({\n",
    "            \"store_id\": [store_id],\n",
    "            \"dayOfWeek\": list(range(7)),\n",
    "            \"start_time_local\": pd.Timestamp(\"00:00:00\").tz_localize(tz),\n",
    "            \"end_time_local\": pd.Timestamp(\"23:59:59\").tz_localize(tz)\n",
    "        })\n",
    "    \n",
    "    # Compute the uptime and downtime within business hours\n",
    "    uptime = 0\n",
    "    downtime = 0\n",
    "    for index, row in df_hours.iterrows():\n",
    "        start_time = row[\"start_time_local\"]\n",
    "        end_time = row[\"end_time_local\"]\n",
    "        weekday = row[\"dayOfWeek\"]\n",
    "        df_weekday = df_store[df_store[\"timestamp_utc\"].dt.weekday == weekday]\n",
    "        \n",
    "        if len(df_weekday) == 0:\n",
    "            downtime += (end_time - start_time).total_seconds() / 60\n",
    "            continue\n",
    "        \n",
    "        df_weekday = df_weekday.sort_values(by=\"timestamp_utc\")\n",
    "        df_weekday = df_weekday.reset_index(drop=True)\n",
    "        \n",
    "        if df_weekday.iloc[0][\"status\"] == \"inactive\":\n",
    "            df_weekday.iloc[0][\"timestamp_utc\"] = pd.Timestamp(df_weekday.iloc[0][\"timestamp_utc\"].strftime(\"%Y-%m-%"
   ]
  },
  {
   "cell_type": "code",
   "execution_count": null,
   "id": "2aaf6e5e",
   "metadata": {},
   "outputs": [],
   "source": []
  },
  {
   "cell_type": "code",
   "execution_count": null,
   "id": "506a2174",
   "metadata": {},
   "outputs": [],
   "source": []
  },
  {
   "cell_type": "code",
   "execution_count": null,
   "id": "6b8f5084",
   "metadata": {},
   "outputs": [],
   "source": []
  }
 ],
 "metadata": {
  "kernelspec": {
   "display_name": "Python 3 (ipykernel)",
   "language": "python",
   "name": "python3"
  },
  "language_info": {
   "codemirror_mode": {
    "name": "ipython",
    "version": 3
   },
   "file_extension": ".py",
   "mimetype": "text/x-python",
   "name": "python",
   "nbconvert_exporter": "python",
   "pygments_lexer": "ipython3",
   "version": "3.10.9"
  }
 },
 "nbformat": 4,
 "nbformat_minor": 5
}
